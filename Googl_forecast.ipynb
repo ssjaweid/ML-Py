{
 "cells": [
  {
   "cell_type": "code",
   "execution_count": 38,
   "id": "04d9fc87-4e44-4c49-ae61-ea2c9d15678e",
   "metadata": {},
   "outputs": [],
   "source": [
    "import pandas as pd\n",
    "import quandl\n",
    "import numpy as np"
   ]
  },
  {
   "cell_type": "code",
   "execution_count": 27,
   "id": "b855450b-45a1-4892-bb90-f452778f9c05",
   "metadata": {},
   "outputs": [],
   "source": [
    "import sys"
   ]
  },
  {
   "cell_type": "code",
   "execution_count": 28,
   "id": "c5699896-6e3c-47b8-abb2-e54a9d6df383",
   "metadata": {},
   "outputs": [
    {
     "name": "stdout",
     "output_type": "stream",
     "text": [
      "/Users/salehajaweid/opt/anaconda3/bin/python\n"
     ]
    }
   ],
   "source": [
    "print (sys.executable)"
   ]
  },
  {
   "cell_type": "code",
   "execution_count": 30,
   "id": "9aa9eda6-10d1-44f4-a360-d041ce538c44",
   "metadata": {},
   "outputs": [
    {
     "name": "stdout",
     "output_type": "stream",
     "text": [
      "Requirement already satisfied: yfinance in /Users/salehajaweid/opt/anaconda3/lib/python3.9/site-packages (0.2.61)\n",
      "Requirement already satisfied: frozendict>=2.3.4 in /Users/salehajaweid/opt/anaconda3/lib/python3.9/site-packages (from yfinance) (2.4.6)\n",
      "Requirement already satisfied: curl_cffi>=0.7 in /Users/salehajaweid/opt/anaconda3/lib/python3.9/site-packages (from yfinance) (0.11.1)\n",
      "Requirement already satisfied: multitasking>=0.0.7 in /Users/salehajaweid/opt/anaconda3/lib/python3.9/site-packages (from yfinance) (0.0.11)\n",
      "Requirement already satisfied: requests>=2.31 in /Users/salehajaweid/opt/anaconda3/lib/python3.9/site-packages (from yfinance) (2.32.3)\n",
      "Requirement already satisfied: websockets>=13.0 in /Users/salehajaweid/opt/anaconda3/lib/python3.9/site-packages (from yfinance) (15.0.1)\n",
      "Requirement already satisfied: peewee>=3.16.2 in /Users/salehajaweid/opt/anaconda3/lib/python3.9/site-packages (from yfinance) (3.18.1)\n",
      "Requirement already satisfied: platformdirs>=2.0.0 in /Users/salehajaweid/opt/anaconda3/lib/python3.9/site-packages (from yfinance) (2.5.2)\n",
      "Requirement already satisfied: beautifulsoup4>=4.11.1 in /Users/salehajaweid/opt/anaconda3/lib/python3.9/site-packages (from yfinance) (4.11.1)\n",
      "Requirement already satisfied: pytz>=2022.5 in /Users/salehajaweid/opt/anaconda3/lib/python3.9/site-packages (from yfinance) (2025.2)\n",
      "Requirement already satisfied: protobuf>=3.19.0 in /Users/salehajaweid/opt/anaconda3/lib/python3.9/site-packages (from yfinance) (6.31.1)\n",
      "Requirement already satisfied: numpy>=1.16.5 in /Users/salehajaweid/opt/anaconda3/lib/python3.9/site-packages (from yfinance) (1.21.5)\n",
      "Requirement already satisfied: pandas>=1.3.0 in /Users/salehajaweid/opt/anaconda3/lib/python3.9/site-packages (from yfinance) (1.4.4)\n",
      "Requirement already satisfied: soupsieve>1.2 in /Users/salehajaweid/opt/anaconda3/lib/python3.9/site-packages (from beautifulsoup4>=4.11.1->yfinance) (2.3.1)\n",
      "Requirement already satisfied: cffi>=1.12.0 in /Users/salehajaweid/opt/anaconda3/lib/python3.9/site-packages (from curl_cffi>=0.7->yfinance) (1.15.1)\n",
      "Requirement already satisfied: certifi>=2024.2.2 in /Users/salehajaweid/opt/anaconda3/lib/python3.9/site-packages (from curl_cffi>=0.7->yfinance) (2025.4.26)\n",
      "Requirement already satisfied: python-dateutil>=2.8.1 in /Users/salehajaweid/opt/anaconda3/lib/python3.9/site-packages (from pandas>=1.3.0->yfinance) (2.8.2)\n",
      "Requirement already satisfied: urllib3<3,>=1.21.1 in /Users/salehajaweid/opt/anaconda3/lib/python3.9/site-packages (from requests>=2.31->yfinance) (1.26.11)\n",
      "Requirement already satisfied: idna<4,>=2.5 in /Users/salehajaweid/opt/anaconda3/lib/python3.9/site-packages (from requests>=2.31->yfinance) (3.3)\n",
      "Requirement already satisfied: charset-normalizer<4,>=2 in /Users/salehajaweid/opt/anaconda3/lib/python3.9/site-packages (from requests>=2.31->yfinance) (2.0.4)\n",
      "Requirement already satisfied: pycparser in /Users/salehajaweid/opt/anaconda3/lib/python3.9/site-packages (from cffi>=1.12.0->curl_cffi>=0.7->yfinance) (2.21)\n",
      "Requirement already satisfied: six>=1.5 in /Users/salehajaweid/opt/anaconda3/lib/python3.9/site-packages (from python-dateutil>=2.8.1->pandas>=1.3.0->yfinance) (1.16.0)\n",
      "Note: you may need to restart the kernel to use updated packages.\n"
     ]
    }
   ],
   "source": [
    "#pip install yfinance"
   ]
  },
  {
   "cell_type": "code",
   "execution_count": 31,
   "id": "5ed13b1c-3a1d-430d-8808-835a0171ab5a",
   "metadata": {},
   "outputs": [],
   "source": [
    "import yfinance as yf\n",
    "googl = yf.Ticker(\"GOOGL\")\n",
    "df = googl.history(period=\"max\")  # gets all available historical data"
   ]
  },
  {
   "cell_type": "code",
   "execution_count": 32,
   "id": "4b337290-29d0-43ba-8708-a1111888a179",
   "metadata": {},
   "outputs": [
    {
     "name": "stdout",
     "output_type": "stream",
     "text": [
      "                               Open      High       Low     Close     Volume  \\\n",
      "Date                                                                           \n",
      "2004-08-19 00:00:00-04:00  2.490595  2.591713  2.389974  2.499063  893181924   \n",
      "2004-08-20 00:00:00-04:00  2.515750  2.716741  2.503048  2.697563  456686856   \n",
      "2004-08-23 00:00:00-04:00  2.758334  2.826327  2.715994  2.724711  365122512   \n",
      "2004-08-24 00:00:00-04:00  2.770538  2.779504  2.579509  2.611887  304946748   \n",
      "2004-08-25 00:00:00-04:00  2.614129  2.689843  2.587231  2.640031  183772044   \n",
      "\n",
      "                           Dividends  Stock Splits  \n",
      "Date                                                \n",
      "2004-08-19 00:00:00-04:00        0.0           0.0  \n",
      "2004-08-20 00:00:00-04:00        0.0           0.0  \n",
      "2004-08-23 00:00:00-04:00        0.0           0.0  \n",
      "2004-08-24 00:00:00-04:00        0.0           0.0  \n",
      "2004-08-25 00:00:00-04:00        0.0           0.0  \n"
     ]
    }
   ],
   "source": [
    "print (df.head())"
   ]
  },
  {
   "cell_type": "code",
   "execution_count": 5,
   "id": "bb9b05a6-7aee-47e4-ab0c-8274e5585bf9",
   "metadata": {},
   "outputs": [
    {
     "name": "stdout",
     "output_type": "stream",
     "text": [
      "                               Open      High       Low     Close     Volume\n",
      "Date                                                                        \n",
      "2004-08-19 00:00:00-04:00  2.490595  2.591713  2.389974  2.499063  893181924\n",
      "2004-08-20 00:00:00-04:00  2.515750  2.716741  2.503048  2.697563  456686856\n",
      "2004-08-23 00:00:00-04:00  2.758335  2.826327  2.715994  2.724711  365122512\n",
      "2004-08-24 00:00:00-04:00  2.770538  2.779504  2.579509  2.611887  304946748\n",
      "2004-08-25 00:00:00-04:00  2.614129  2.689843  2.587231  2.640031  183772044\n"
     ]
    }
   ],
   "source": [
    "df = df[['Open', 'High', 'Low', 'Close', 'Volume']]\n",
    "print (df.head())"
   ]
  },
  {
   "cell_type": "code",
   "execution_count": 33,
   "id": "31c9638e-f2e6-4537-8900-952f7dfdcc22",
   "metadata": {},
   "outputs": [
    {
     "name": "stdout",
     "output_type": "stream",
     "text": [
      "                              Close    HL_PCT  PCT_change     Volume\n",
      "Date                                                                \n",
      "2004-08-19 00:00:00-04:00  2.499063  3.707398    0.339978  893181924\n",
      "2004-08-20 00:00:00-04:00  2.697563  0.710947    7.226981  456686856\n",
      "2004-08-23 00:00:00-04:00  2.724711  3.729431   -1.218975  365122512\n",
      "2004-08-24 00:00:00-04:00  2.611887  6.417497   -5.726378  304946748\n",
      "2004-08-25 00:00:00-04:00  2.640031  1.886791    0.990853  183772044\n"
     ]
    }
   ],
   "source": [
    "df['HL_PCT'] = (df['High'] - df['Close']) / df['Close'] * 100.0\n",
    "df['PCT_change'] = (df['Close'] - df['Open']) / df['Open'] * 100.0\n",
    "\n",
    "df = df[['Close', 'HL_PCT', 'PCT_change', 'Volume']]\n",
    "\n",
    "print (df.head())"
   ]
  },
  {
   "cell_type": "code",
   "execution_count": 55,
   "id": "3aa7ad35-d420-4fdc-a221-044b2085e1b4",
   "metadata": {},
   "outputs": [
    {
     "name": "stdout",
     "output_type": "stream",
     "text": [
      "                              Close    HL_PCT  PCT_change     Volume     label\n",
      "Date                                                                          \n",
      "2004-08-19 00:00:00-04:00  2.499063  3.707398    0.339978  893181924  2.687601\n",
      "2004-08-20 00:00:00-04:00  2.697563  0.710947    7.226981  456686856  2.643766\n",
      "2004-08-23 00:00:00-04:00  2.724711  3.729431   -1.218975  365122512  2.540657\n",
      "2004-08-24 00:00:00-04:00  2.611887  6.417497   -5.726378  304946748  2.549622\n",
      "2004-08-25 00:00:00-04:00  2.640031  1.886791    0.990853  183772044  2.496822\n"
     ]
    }
   ],
   "source": [
    "forecast_col = 'Close'\n",
    "# treat NAN data as outlier\n",
    "\n",
    "df.fillna(-99999, inplace=True)\n",
    "\n",
    "# use regression to create a forecast\n",
    "\n",
    "import math \n",
    "\n",
    "forecast_out = int(math.ceil(0.001*len(df))) # gives you the forecast window for the data set based on the volume of the dataset\n",
    "df['label'] = df[forecast_col].shift(-forecast_out)\n",
    "print (df.head())"
   ]
  },
  {
   "cell_type": "code",
   "execution_count": 56,
   "id": "201f50ef-caf6-4754-a121-0fc1a8aff611",
   "metadata": {},
   "outputs": [
    {
     "name": "stdout",
     "output_type": "stream",
     "text": [
      "                              Close    HL_PCT  PCT_change     Volume     label\n",
      "Date                                                                          \n",
      "2004-08-19 00:00:00-04:00  2.499063  3.707398    0.339978  893181924  2.687601\n",
      "2004-08-20 00:00:00-04:00  2.697563  0.710947    7.226981  456686856  2.643766\n",
      "2004-08-23 00:00:00-04:00  2.724711  3.729431   -1.218975  365122512  2.540657\n",
      "2004-08-24 00:00:00-04:00  2.611887  6.417497   -5.726378  304946748  2.549622\n",
      "2004-08-25 00:00:00-04:00  2.640031  1.886791    0.990853  183772044  2.496822\n"
     ]
    }
   ],
   "source": [
    "df.dropna(inplace=True)\n",
    "print(df.head())"
   ]
  },
  {
   "cell_type": "code",
   "execution_count": 57,
   "id": "f0306cff-1d90-438f-99d3-3f4fed718c85",
   "metadata": {},
   "outputs": [],
   "source": [
    "from sklearn import preprocessing, svm\n",
    "from sklearn.model_selection import train_test_split  # This replaces cross_validation\n",
    "from sklearn.linear_model import LinearRegression"
   ]
  },
  {
   "cell_type": "code",
   "execution_count": 58,
   "id": "eb9ebced-110b-42d7-aec4-743609042ad4",
   "metadata": {},
   "outputs": [
    {
     "name": "stdout",
     "output_type": "stream",
     "text": [
      "4704 4704\n"
     ]
    },
    {
     "name": "stderr",
     "output_type": "stream",
     "text": [
      "/var/folders/h4/fh6pmpz12db8s8wlgw7ncgvr0000gn/T/ipykernel_65050/4239986564.py:3: FutureWarning: In a future version of pandas all arguments of DataFrame.drop except for the argument 'labels' will be keyword-only.\n",
      "  x = np.array(df.drop(['label'], 1))\n",
      "/Users/salehajaweid/opt/anaconda3/lib/python3.9/site-packages/sklearn/preprocessing/_data.py:235: UserWarning: Numerical issues were encountered when centering the data and might not be solved. Dataset may contain too large values. You may need to prescale your features.\n",
      "  warnings.warn(\n"
     ]
    }
   ],
   "source": [
    "# Define features 'x' and labels 'y'\n",
    "\n",
    "x = np.array(df.drop(['label'], 1))\n",
    "y = np.array(df['label'])\n",
    "\n",
    "x = preprocessing.scale(x)\n",
    "\n",
    "# x = x[:-forecast_out+1]\n",
    "df.dropna(inplace=True)\n",
    "y = np.array(df['label'])\n",
    "\n",
    "print(len(x), len(y))"
   ]
  },
  {
   "cell_type": "code",
   "execution_count": 59,
   "id": "a3068194-9f67-4c1b-84dc-c50f5c7631d7",
   "metadata": {},
   "outputs": [],
   "source": [
    "x_train, x_test, y_train, y_test = train_test_split(x,y,test_size=0.2)"
   ]
  },
  {
   "cell_type": "code",
   "execution_count": 60,
   "id": "aa516171-925f-4f1e-9747-ca233b822100",
   "metadata": {},
   "outputs": [
    {
     "name": "stdout",
     "output_type": "stream",
     "text": [
      "0.9971178932218895\n"
     ]
    }
   ],
   "source": [
    "clf = LinearRegression()\n",
    "clf.fit(x_train, y_train)\n",
    "accuracy = clf.score(x_test, y_test)\n",
    "\n",
    "print(accuracy)"
   ]
  },
  {
   "cell_type": "code",
   "execution_count": 61,
   "id": "42af124a-1380-4857-b084-a977402e78e6",
   "metadata": {},
   "outputs": [
    {
     "name": "stdout",
     "output_type": "stream",
     "text": [
      "5\n"
     ]
    }
   ],
   "source": [
    "print(forecast_out)"
   ]
  },
  {
   "cell_type": "code",
   "execution_count": 63,
   "id": "1950993c-127e-40cd-bc20-592c8dc4be6d",
   "metadata": {},
   "outputs": [
    {
     "name": "stdout",
     "output_type": "stream",
     "text": [
      "                                Close    HL_PCT  PCT_change    Volume  \\\n",
      "Date                                                                    \n",
      "2023-04-20 00:00:00-04:00  104.789009  0.911767    1.328070  27820800   \n",
      "2023-04-21 00:00:00-04:00  104.908447  0.559716   -0.056886  25800100   \n",
      "2023-04-24 00:00:00-04:00  105.465782  0.622814    0.455023  23542800   \n",
      "2023-04-25 00:00:00-04:00  103.355865  2.734717   -1.870928  46664100   \n",
      "2023-04-26 00:00:00-04:00  103.216530  2.545559   -1.153259  53347600   \n",
      "\n",
      "                                label  \n",
      "Date                                   \n",
      "2023-04-20 00:00:00-04:00  107.078056  \n",
      "2023-04-21 00:00:00-04:00  106.829247  \n",
      "2023-04-24 00:00:00-04:00  106.689911  \n",
      "2023-04-25 00:00:00-04:00  104.818863  \n",
      "2023-04-26 00:00:00-04:00  104.908447  \n"
     ]
    }
   ],
   "source": [
    "print(df.tail())"
   ]
  },
  {
   "cell_type": "code",
   "execution_count": null,
   "id": "9537dbdd-0e37-4497-bfee-f5af8702ca2e",
   "metadata": {},
   "outputs": [],
   "source": []
  }
 ],
 "metadata": {
  "kernelspec": {
   "display_name": "Python 3 (ipykernel)",
   "language": "python",
   "name": "python3"
  },
  "language_info": {
   "codemirror_mode": {
    "name": "ipython",
    "version": 3
   },
   "file_extension": ".py",
   "mimetype": "text/x-python",
   "name": "python",
   "nbconvert_exporter": "python",
   "pygments_lexer": "ipython3",
   "version": "3.9.13"
  }
 },
 "nbformat": 4,
 "nbformat_minor": 5
}
